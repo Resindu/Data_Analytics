{
 "cells": [
  {
   "cell_type": "code",
   "execution_count": null,
   "metadata": {},
   "outputs": [
    {
     "name": "stdout",
     "output_type": "stream",
     "text": [
      "Error loading /Users/resindunavoda/Downloads/iris//bezdekIris.csv: [Errno 2] No such file or directory: '/Users/resindunavoda/Downloads/iris//bezdekIris.csv'\n",
      "Successfully loaded: /Users/resindunavoda/Downloads/iris//irisdata.csv\n",
      "     0    1    2    3            4\n",
      "0  5.1  3.5  1.4  0.2  Iris-setosa\n",
      "1  4.9  3.0  1.4  0.2  Iris-setosa\n",
      "2  4.7  3.2  1.3  0.2  Iris-setosa\n",
      "3  4.6  3.1  1.5  0.2  Iris-setosa\n",
      "4  5.0  3.6  1.4  0.2  Iris-setosa\n"
     ]
    }
   ],
   "source": [
    "import pandas as pd\n",
    "import matplotlib.pyplot as plt\n",
    "import seaborn as sns\n",
    " \n",
    "# Load the uploaded datasets\n",
    "file_paths = [\n",
    "    '/Users/resindunavoda/Downloads/iris//bezdekIris.csv',\n",
    "    '/Users/resindunavoda/Downloads/iris//irisdata.csv'\n",
    "]\n",
    "for file_path in file_paths:\n",
    "    try:\n",
    "        df = pd.read_csv(file_path, header=None)\n",
    "        print(f\"Successfully loaded: {file_path}\")\n",
    "        print(df.head())  # Display first few rows for inspection\n",
    "    except Exception as e:\n",
    "        print(f\"Error loading {file_path}: {e}\")\n",
    " \n",
    "# Assign column names based on the structure of the Iris dataset\n",
    "df.columns = ['sepal_length', 'sepal_width', 'petal_length', 'petal_width', 'species']\n",
    " \n",
    "# Initial Data Cleaning\n",
    "# 1. Check for missing values\n",
    "missing_values = df.isnull().sum()\n",
    "print(missing_values)\n",
    " \n",
    "# 2. Drop duplicates\n",
    "df_cleaned = df.drop_duplicates()\n",
    "print(df_cleaned)\n",
    "\n",
    "#3.rate of missing values\n",
    "total_rows = len(df)\n",
    "    \n",
    "# Calculate the missing value rate for each column\n",
    "missing_rate = (missing_values / total_rows) * 100\n",
    "    \n",
    " \n",
    "# Calculate the correlation matrix for the numerical data\n",
    "correlation_matrix = df_cleaned.corr(numeric_only=True)\n",
    "print(correlation_matrix)\n",
    " \n",
    " \n",
    "# Heatmap to visualize the correlation matrix\n",
    "plt.figure(figsize=(8, 6))\n",
    "sns.heatmap(correlation_matrix, annot=True, cmap='coolwarm', fmt=\".2f\", cbar=True)\n",
    "plt.title(\"Correlation Matrix Heatmap\")\n",
    "plt.xlabel(\"Features\")\n",
    "plt.ylabel(\"Features\")\n",
    "plt.show()\n",
    " \n",
    " "
   ]
  },
  {
   "cell_type": "code",
   "execution_count": 16,
   "metadata": {},
   "outputs": [
    {
     "name": "stdout",
     "output_type": "stream",
     "text": [
      "       0    1    2    3               4\n",
      "0    5.1  3.5  1.4  0.2     Iris-setosa\n",
      "1    4.9  3.0  1.4  0.2     Iris-setosa\n",
      "2    4.7  3.2  1.3  0.2     Iris-setosa\n",
      "3    4.6  3.1  1.5  0.2     Iris-setosa\n",
      "4    5.0  3.6  1.4  0.2     Iris-setosa\n",
      "..   ...  ...  ...  ...             ...\n",
      "145  6.7  3.0  5.2  2.3  Iris-virginica\n",
      "146  6.3  2.5  5.0  1.9  Iris-virginica\n",
      "147  6.5  3.0  5.2  2.0  Iris-virginica\n",
      "148  6.2  3.4  5.4  2.3  Iris-virginica\n",
      "149  5.9  3.0  5.1  1.8  Iris-virginica\n",
      "\n",
      "[147 rows x 5 columns]\n",
      "          0         1         2         3\n",
      "0  1.000000 -0.109321  0.871305  0.817058\n",
      "1 -0.109321  1.000000 -0.421057 -0.356376\n",
      "2  0.871305 -0.421057  1.000000  0.961883\n",
      "3  0.817058 -0.356376  0.961883  1.000000\n"
     ]
    },
    {
     "data": {
      "image/png": "[encoded data removed]",
      "text/plain": [
       "<Figure size 800x600 with 2 Axes>"
      ]
     },
     "metadata": {},
     "output_type": "display_data"
    }
   ],
   "source": [
    "# 2. Drop duplicates\n",
    "df_cleaned = df.drop_duplicates()\n",
    "print(df_cleaned)\n",
    " \n",
    "# Calculate the correlation matrix for the numerical data\n",
    "correlation_matrix = df_cleaned.corr(numeric_only=True)\n",
    "print(correlation_matrix)\n",
    " \n",
    " \n",
    "# Heatmap to visualize the correlation matrix\n",
    "plt.figure(figsize=(8, 6))\n",
    "# sns.heatmap(correlation_matrix, annot=True, cmap='YlGnBu', fmt=\".2f\", cbar=True)\n",
    "sns.heatmap(correlation_matrix, annot = True, cmap=\"YlGnBu\")\n",
    "# plt.title(\"Correlation Matrix Heatmap\")\n",
    "# plt.xlabel(\"Features\")\n",
    "# plt.ylabel(\"Features\")\n",
    "plt.show()"
   ]
  },
  {
   "cell_type": "code",
   "execution_count": null,
   "metadata": {},
   "outputs": [
    {
     "name": "stdout",
     "output_type": "stream",
     "text": [
      "sepal_length    0\n",
      "sepal_width     0\n",
      "petal_length    0\n",
      "petal_width     0\n",
      "species         0\n",
      "dtype: int64\n"
     ]
    },
    {
     "data": {
      "text/plain": [
       "sepal_length    0.0\n",
       "sepal_width     0.0\n",
       "petal_length    0.0\n",
       "petal_width     0.0\n",
       "species         0.0\n",
       "dtype: float64"
      ]
     },
     "execution_count": 14,
     "metadata": {},
     "output_type": "execute_result"
    }
   ],
   "source": []
  },
  {
   "cell_type": "code",
   "execution_count": null,
   "metadata": {},
   "outputs": [],
   "source": []
  },
  {
   "cell_type": "code",
   "execution_count": null,
   "metadata": {},
   "outputs": [],
   "source": []
  },
  {
   "cell_type": "code",
   "execution_count": null,
   "metadata": {},
   "outputs": [],
   "source": []
  },
  {
   "cell_type": "code",
   "execution_count": null,
   "metadata": {},
   "outputs": [],
   "source": []
  }
 ],
 "metadata": {
  "kernelspec": {
   "display_name": "base",
   "language": "python",
   "name": "python3"
  },
  "language_info": {
   "codemirror_mode": {
    "name": "ipython",
    "version": 3
   },
   "file_extension": ".py",
   "mimetype": "text/x-python",
   "name": "python",
   "nbconvert_exporter": "python",
   "pygments_lexer": "ipython3",
   "version": "3.12.2"
  }
 },
 "nbformat": 4,
 "nbformat_minor": 2
}
